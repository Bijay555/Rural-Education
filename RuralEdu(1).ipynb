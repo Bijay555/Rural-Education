{
 "cells": [
  {
   "cell_type": "markdown",
   "metadata": {},
   "source": [
    "# Rural Development Education Analytical Model to solve all problems, find out best teachers and keep Rural Education happening sincerely and regularly"
   ]
  },
  {
   "cell_type": "markdown",
   "metadata": {},
   "source": [
    "# Importing the dataset from our MySQL database"
   ]
  },
  {
   "cell_type": "code",
   "execution_count": 1,
   "metadata": {},
   "outputs": [],
   "source": [
    "import pandas as pd\n",
    "import numpy as np\n",
    "import matplotlib.pyplot as plt\n",
    "%matplotlib inline"
   ]
  },
  {
   "cell_type": "code",
   "execution_count": 14,
   "metadata": {},
   "outputs": [
    {
     "data": {
      "text/html": [
       "<div>\n",
       "<style scoped>\n",
       "    .dataframe tbody tr th:only-of-type {\n",
       "        vertical-align: middle;\n",
       "    }\n",
       "\n",
       "    .dataframe tbody tr th {\n",
       "        vertical-align: top;\n",
       "    }\n",
       "\n",
       "    .dataframe thead th {\n",
       "        text-align: right;\n",
       "    }\n",
       "</style>\n",
       "<table border=\"1\" class=\"dataframe\">\n",
       "  <thead>\n",
       "    <tr style=\"text-align: right;\">\n",
       "      <th></th>\n",
       "      <th>studentid</th>\n",
       "      <th>school</th>\n",
       "      <th>Location</th>\n",
       "      <th>Zone</th>\n",
       "      <th>Problem</th>\n",
       "      <th>Description</th>\n",
       "    </tr>\n",
       "  </thead>\n",
       "  <tbody>\n",
       "    <tr>\n",
       "      <th>0</th>\n",
       "      <td>16642</td>\n",
       "      <td>Gandhi government school</td>\n",
       "      <td>Mangalgiri</td>\n",
       "      <td>Zone 1</td>\n",
       "      <td>Classrooms</td>\n",
       "      <td>Water is leaking from roof top</td>\n",
       "    </tr>\n",
       "    <tr>\n",
       "      <th>1</th>\n",
       "      <td>35343</td>\n",
       "      <td>Nehru government school</td>\n",
       "      <td>Neerukonda</td>\n",
       "      <td>Zone 2</td>\n",
       "      <td>Electricity or Water</td>\n",
       "      <td>Fans not working</td>\n",
       "    </tr>\n",
       "    <tr>\n",
       "      <th>2</th>\n",
       "      <td>56435</td>\n",
       "      <td>RS government school</td>\n",
       "      <td>Thadepalli</td>\n",
       "      <td>Zone 2</td>\n",
       "      <td>Washrooms</td>\n",
       "      <td>Unclean washrooms</td>\n",
       "    </tr>\n",
       "    <tr>\n",
       "      <th>3</th>\n",
       "      <td>65457</td>\n",
       "      <td>Gandhi government school</td>\n",
       "      <td>Mangalgiri</td>\n",
       "      <td>Zone 1</td>\n",
       "      <td>Finance</td>\n",
       "      <td>Damaged books are provided</td>\n",
       "    </tr>\n",
       "    <tr>\n",
       "      <th>4</th>\n",
       "      <td>78658</td>\n",
       "      <td>Nehru government school</td>\n",
       "      <td>Neerukonda</td>\n",
       "      <td>Zone 3</td>\n",
       "      <td>Meals</td>\n",
       "      <td>Spoiled meals are provided</td>\n",
       "    </tr>\n",
       "    <tr>\n",
       "      <th>5</th>\n",
       "      <td>65748</td>\n",
       "      <td>Government Boys school</td>\n",
       "      <td>Kuragallu</td>\n",
       "      <td>Zone 2</td>\n",
       "      <td>Sports</td>\n",
       "      <td>Play ground is not there</td>\n",
       "    </tr>\n",
       "    <tr>\n",
       "      <th>6</th>\n",
       "      <td>54678</td>\n",
       "      <td>Zphs</td>\n",
       "      <td>Kuragallu</td>\n",
       "      <td>Zone 3</td>\n",
       "      <td>Teachers</td>\n",
       "      <td>One teacher teaching 3 subjects</td>\n",
       "    </tr>\n",
       "    <tr>\n",
       "      <th>7</th>\n",
       "      <td>44636</td>\n",
       "      <td>RP government school</td>\n",
       "      <td>Neerukonda</td>\n",
       "      <td>Zone 2</td>\n",
       "      <td>Washrooms</td>\n",
       "      <td>Washrooms are smelling badly</td>\n",
       "    </tr>\n",
       "    <tr>\n",
       "      <th>8</th>\n",
       "      <td>66578</td>\n",
       "      <td>Zphs</td>\n",
       "      <td>Neerukonda</td>\n",
       "      <td>Zone 3</td>\n",
       "      <td>Electricity or Water</td>\n",
       "      <td>No water facilities</td>\n",
       "    </tr>\n",
       "    <tr>\n",
       "      <th>9</th>\n",
       "      <td>67758</td>\n",
       "      <td>Gandhi government school</td>\n",
       "      <td>Mangalgiri</td>\n",
       "      <td>Zone 1</td>\n",
       "      <td>Classrooms</td>\n",
       "      <td>No proper Ceiling</td>\n",
       "    </tr>\n",
       "    <tr>\n",
       "      <th>10</th>\n",
       "      <td>87794</td>\n",
       "      <td>RP government school</td>\n",
       "      <td>Thadepalli</td>\n",
       "      <td>Zone 3</td>\n",
       "      <td>Classrooms</td>\n",
       "      <td>No lights in class room</td>\n",
       "    </tr>\n",
       "    <tr>\n",
       "      <th>11</th>\n",
       "      <td>23456</td>\n",
       "      <td>Nehru government school</td>\n",
       "      <td>Kuragallu</td>\n",
       "      <td>Zone 3</td>\n",
       "      <td>Teachers</td>\n",
       "      <td>Teacher is irregular</td>\n",
       "    </tr>\n",
       "    <tr>\n",
       "      <th>12</th>\n",
       "      <td>88699</td>\n",
       "      <td>Nehru government school</td>\n",
       "      <td>Thadepalli</td>\n",
       "      <td>Zone 2</td>\n",
       "      <td>Washrooms</td>\n",
       "      <td>Untidy washroom</td>\n",
       "    </tr>\n",
       "    <tr>\n",
       "      <th>13</th>\n",
       "      <td>24524</td>\n",
       "      <td>Zphs</td>\n",
       "      <td>Neerukonda</td>\n",
       "      <td>Zone 2</td>\n",
       "      <td>Electricity or Water</td>\n",
       "      <td>No water facilities</td>\n",
       "    </tr>\n",
       "    <tr>\n",
       "      <th>14</th>\n",
       "      <td>24667</td>\n",
       "      <td>Gandhi government school</td>\n",
       "      <td>Thadepalli</td>\n",
       "      <td>Zone 3</td>\n",
       "      <td>Classrooms</td>\n",
       "      <td>No proper Ceiling</td>\n",
       "    </tr>\n",
       "    <tr>\n",
       "      <th>15</th>\n",
       "      <td>78866</td>\n",
       "      <td>RP government school</td>\n",
       "      <td>Mangalgiri</td>\n",
       "      <td>Zone 1</td>\n",
       "      <td>Classrooms</td>\n",
       "      <td>No lights in class room</td>\n",
       "    </tr>\n",
       "    <tr>\n",
       "      <th>16</th>\n",
       "      <td>45757</td>\n",
       "      <td>Nehru government school</td>\n",
       "      <td>Neerukonda</td>\n",
       "      <td>Zone 3</td>\n",
       "      <td>Teachers</td>\n",
       "      <td>Teacher is irregular</td>\n",
       "    </tr>\n",
       "    <tr>\n",
       "      <th>17</th>\n",
       "      <td>43655</td>\n",
       "      <td>Nehru government school</td>\n",
       "      <td>Kuragallu</td>\n",
       "      <td>Zone 3</td>\n",
       "      <td>Washrooms</td>\n",
       "      <td>Untidy washroom</td>\n",
       "    </tr>\n",
       "    <tr>\n",
       "      <th>18</th>\n",
       "      <td>53553</td>\n",
       "      <td>RS government school</td>\n",
       "      <td>Kuragallu</td>\n",
       "      <td>Zone 2</td>\n",
       "      <td>Classrooms</td>\n",
       "      <td>Water is leaking from roof top</td>\n",
       "    </tr>\n",
       "    <tr>\n",
       "      <th>19</th>\n",
       "      <td>64644</td>\n",
       "      <td>Gandhi government school</td>\n",
       "      <td>Neerukonda</td>\n",
       "      <td>Zone 2</td>\n",
       "      <td>Electricity or Water</td>\n",
       "      <td>Fans not working</td>\n",
       "    </tr>\n",
       "  </tbody>\n",
       "</table>\n",
       "</div>"
      ],
      "text/plain": [
       "    studentid                    school    Location    Zone  \\\n",
       "0       16642  Gandhi government school  Mangalgiri  Zone 1   \n",
       "1       35343   Nehru government school  Neerukonda  Zone 2   \n",
       "2       56435      RS government school  Thadepalli  Zone 2   \n",
       "3       65457  Gandhi government school  Mangalgiri  Zone 1   \n",
       "4       78658   Nehru government school  Neerukonda  Zone 3   \n",
       "5       65748    Government Boys school   Kuragallu  Zone 2   \n",
       "6       54678                      Zphs   Kuragallu  Zone 3   \n",
       "7       44636      RP government school  Neerukonda  Zone 2   \n",
       "8       66578                      Zphs  Neerukonda  Zone 3   \n",
       "9       67758  Gandhi government school  Mangalgiri  Zone 1   \n",
       "10      87794      RP government school  Thadepalli  Zone 3   \n",
       "11      23456   Nehru government school   Kuragallu  Zone 3   \n",
       "12      88699   Nehru government school  Thadepalli  Zone 2   \n",
       "13      24524                      Zphs  Neerukonda  Zone 2   \n",
       "14      24667  Gandhi government school  Thadepalli  Zone 3   \n",
       "15      78866      RP government school  Mangalgiri  Zone 1   \n",
       "16      45757   Nehru government school  Neerukonda  Zone 3   \n",
       "17      43655   Nehru government school   Kuragallu  Zone 3   \n",
       "18      53553      RS government school   Kuragallu  Zone 2   \n",
       "19      64644  Gandhi government school  Neerukonda  Zone 2   \n",
       "\n",
       "                 Problem                      Description  \n",
       "0             Classrooms   Water is leaking from roof top  \n",
       "1   Electricity or Water                 Fans not working  \n",
       "2              Washrooms                Unclean washrooms  \n",
       "3                Finance       Damaged books are provided  \n",
       "4                  Meals       Spoiled meals are provided  \n",
       "5                 Sports         Play ground is not there  \n",
       "6               Teachers  One teacher teaching 3 subjects  \n",
       "7              Washrooms     Washrooms are smelling badly  \n",
       "8   Electricity or Water              No water facilities  \n",
       "9             Classrooms                No proper Ceiling  \n",
       "10            Classrooms          No lights in class room  \n",
       "11              Teachers             Teacher is irregular  \n",
       "12             Washrooms                  Untidy washroom  \n",
       "13  Electricity or Water              No water facilities  \n",
       "14            Classrooms                No proper Ceiling  \n",
       "15            Classrooms          No lights in class room  \n",
       "16              Teachers             Teacher is irregular  \n",
       "17             Washrooms                  Untidy washroom  \n",
       "18            Classrooms   Water is leaking from roof top  \n",
       "19  Electricity or Water                 Fans not working  "
      ]
     },
     "execution_count": 14,
     "metadata": {},
     "output_type": "execute_result"
    }
   ],
   "source": [
    "data = pd.read_csv('ruraleducation.csv')\n",
    "data.head(20)"
   ]
  },
  {
   "cell_type": "markdown",
   "metadata": {},
   "source": [
    "# We find out what are the major problems"
   ]
  },
  {
   "cell_type": "code",
   "execution_count": 16,
   "metadata": {},
   "outputs": [
    {
     "data": {
      "text/plain": [
       "Washrooms               20\n",
       "Teachers                15\n",
       "Classrooms              15\n",
       "Electricity or Water    11\n",
       "Finance                  7\n",
       "Meals                    4\n",
       "Sports                   2\n",
       "Name: Problem, dtype: int64"
      ]
     },
     "execution_count": 16,
     "metadata": {},
     "output_type": "execute_result"
    }
   ],
   "source": [
    "data['Problem'].value_counts()"
   ]
  },
  {
   "cell_type": "code",
   "execution_count": 18,
   "metadata": {},
   "outputs": [
    {
     "data": {
      "text/plain": [
       "<matplotlib.axes._subplots.AxesSubplot at 0x1c2140cc978>"
      ]
     },
     "execution_count": 18,
     "metadata": {},
     "output_type": "execute_result"
    },
    {
     "data": {
      "image/png": "[encoded data removed]",
      "text/plain": [
       "<Figure size 432x288 with 1 Axes>"
      ]
     },
     "metadata": {},
     "output_type": "display_data"
    }
   ],
   "source": [
    "plt.xlabel('Type of Complaints')\n",
    "plt.ylabel('No. of Complaints')\n",
    "data['Problem'].value_counts().plot.bar()"
   ]
  },
  {
   "cell_type": "code",
   "execution_count": 45,
   "metadata": {},
   "outputs": [
    {
     "data": {
      "image/png": "[encoded data removed]",
      "text/plain": [
       "<Figure size 432x288 with 1 Axes>"
      ]
     },
     "metadata": {},
     "output_type": "display_data"
    }
   ],
   "source": [
    "labels = data['Problem'].astype('category').cat.categories.tolist()\n",
    "counts = data['Problem'].value_counts()\n",
    "sizes = [counts[var_cat] for var_cat in labels]\n",
    "fig1, ax1 = plt.subplots()\n",
    "ax1.pie(sizes, labels=labels, autopct='%1.1f%%', shadow=True) #autopct is show the % on plot\n",
    "ax1.axis('equal')\n",
    "plt.show()"
   ]
  },
  {
   "cell_type": "code",
   "execution_count": 19,
   "metadata": {},
   "outputs": [
    {
     "data": {
      "text/plain": [
       "0      Water is leaking from roof top\n",
       "1                    Fans not working\n",
       "2                   Unclean washrooms\n",
       "3          Damaged books are provided\n",
       "4          Spoiled meals are provided\n",
       "5            Play ground is not there\n",
       "6     One teacher teaching 3 subjects\n",
       "7        Washrooms are smelling badly\n",
       "8                 No water facilities\n",
       "9                   No proper Ceiling\n",
       "10            No lights in class room\n",
       "11               Teacher is irregular\n",
       "12                    Untidy washroom\n",
       "13                No water facilities\n",
       "14                  No proper Ceiling\n",
       "15            No lights in class room\n",
       "16               Teacher is irregular\n",
       "17                    Untidy washroom\n",
       "18     Water is leaking from roof top\n",
       "19                   Fans not working\n",
       "20                  Unclean washrooms\n",
       "21         Damaged books are provided\n",
       "22    One teacher teaching 3 subjects\n",
       "23       Washrooms are smelling badly\n",
       "24                No water facilities\n",
       "25                  No proper Ceiling\n",
       "26               Teacher is irregular\n",
       "27                    Untidy washroom\n",
       "28     Water is leaking from roof top\n",
       "29               Teacher is irregular\n",
       "                   ...               \n",
       "44                   Fans not working\n",
       "45         Damaged books are provided\n",
       "46         Spoiled meals are provided\n",
       "47           Play ground is not there\n",
       "48    One teacher teaching 3 subjects\n",
       "49       Washrooms are smelling badly\n",
       "50                    Untidy washroom\n",
       "51     Water is leaking from roof top\n",
       "52         Damaged books are provided\n",
       "53         Spoiled meals are provided\n",
       "54               Teacher is irregular\n",
       "55                    Untidy washroom\n",
       "56     Water is leaking from roof top\n",
       "57                  Unclean washrooms\n",
       "58         Damaged books are provided\n",
       "59    One teacher teaching 3 subjects\n",
       "60            No lights in class room\n",
       "61                    Untidy washroom\n",
       "62               Teacher is irregular\n",
       "63                    Untidy washroom\n",
       "64         Damaged books are provided\n",
       "65                   Fans not working\n",
       "66                  Unclean washrooms\n",
       "67         Spoiled meals are provided\n",
       "68               Teacher is irregular\n",
       "69         Damaged books are provided\n",
       "70    One teacher teaching 3 subjects\n",
       "71       Washrooms are smelling badly\n",
       "72    One teacher teaching 3 subjects\n",
       "73       Washrooms are smelling badly\n",
       "Name: Description, Length: 74, dtype: object"
      ]
     },
     "execution_count": 19,
     "metadata": {},
     "output_type": "execute_result"
    }
   ],
   "source": [
    "data['Description']"
   ]
  },
  {
   "cell_type": "markdown",
   "metadata": {},
   "source": [
    "# Data Pre-Processing"
   ]
  },
  {
   "cell_type": "code",
   "execution_count": 20,
   "metadata": {},
   "outputs": [
    {
     "data": {
      "text/html": [
       "<div>\n",
       "<style scoped>\n",
       "    .dataframe tbody tr th:only-of-type {\n",
       "        vertical-align: middle;\n",
       "    }\n",
       "\n",
       "    .dataframe tbody tr th {\n",
       "        vertical-align: top;\n",
       "    }\n",
       "\n",
       "    .dataframe thead th {\n",
       "        text-align: right;\n",
       "    }\n",
       "</style>\n",
       "<table border=\"1\" class=\"dataframe\">\n",
       "  <thead>\n",
       "    <tr style=\"text-align: right;\">\n",
       "      <th></th>\n",
       "      <th>studentid</th>\n",
       "      <th>school</th>\n",
       "      <th>Location</th>\n",
       "      <th>Zone</th>\n",
       "      <th>Problem</th>\n",
       "      <th>Description</th>\n",
       "    </tr>\n",
       "  </thead>\n",
       "  <tbody>\n",
       "    <tr>\n",
       "      <th>0</th>\n",
       "      <td>16642</td>\n",
       "      <td>Gandhi government school</td>\n",
       "      <td>Mangalgiri</td>\n",
       "      <td>Zone 1</td>\n",
       "      <td>Classrooms</td>\n",
       "      <td>Water is leaking from roof top</td>\n",
       "    </tr>\n",
       "    <tr>\n",
       "      <th>1</th>\n",
       "      <td>35343</td>\n",
       "      <td>Nehru government school</td>\n",
       "      <td>Neerukonda</td>\n",
       "      <td>Zone 2</td>\n",
       "      <td>Electricity or Water</td>\n",
       "      <td>Fans not working</td>\n",
       "    </tr>\n",
       "    <tr>\n",
       "      <th>2</th>\n",
       "      <td>56435</td>\n",
       "      <td>RS government school</td>\n",
       "      <td>Thadepalli</td>\n",
       "      <td>Zone 2</td>\n",
       "      <td>Washrooms</td>\n",
       "      <td>Unclean washrooms</td>\n",
       "    </tr>\n",
       "    <tr>\n",
       "      <th>3</th>\n",
       "      <td>65457</td>\n",
       "      <td>Gandhi government school</td>\n",
       "      <td>Mangalgiri</td>\n",
       "      <td>Zone 1</td>\n",
       "      <td>Finance</td>\n",
       "      <td>Damaged books are provided</td>\n",
       "    </tr>\n",
       "    <tr>\n",
       "      <th>4</th>\n",
       "      <td>78658</td>\n",
       "      <td>Nehru government school</td>\n",
       "      <td>Neerukonda</td>\n",
       "      <td>Zone 3</td>\n",
       "      <td>Meals</td>\n",
       "      <td>Spoiled meals are provided</td>\n",
       "    </tr>\n",
       "  </tbody>\n",
       "</table>\n",
       "</div>"
      ],
      "text/plain": [
       "   studentid                    school    Location    Zone  \\\n",
       "0      16642  Gandhi government school  Mangalgiri  Zone 1   \n",
       "1      35343   Nehru government school  Neerukonda  Zone 2   \n",
       "2      56435      RS government school  Thadepalli  Zone 2   \n",
       "3      65457  Gandhi government school  Mangalgiri  Zone 1   \n",
       "4      78658   Nehru government school  Neerukonda  Zone 3   \n",
       "\n",
       "                Problem                     Description  \n",
       "0            Classrooms  Water is leaking from roof top  \n",
       "1  Electricity or Water                Fans not working  \n",
       "2             Washrooms               Unclean washrooms  \n",
       "3               Finance      Damaged books are provided  \n",
       "4                 Meals      Spoiled meals are provided  "
      ]
     },
     "execution_count": 20,
     "metadata": {},
     "output_type": "execute_result"
    }
   ],
   "source": [
    "data.head()"
   ]
  },
  {
   "cell_type": "code",
   "execution_count": 21,
   "metadata": {},
   "outputs": [
    {
     "data": {
      "text/plain": [
       "studentid       int64\n",
       "school         object\n",
       "Location       object\n",
       "Zone           object\n",
       "Problem        object\n",
       "Description    object\n",
       "dtype: object"
      ]
     },
     "execution_count": 21,
     "metadata": {},
     "output_type": "execute_result"
    }
   ],
   "source": [
    "data.dtypes"
   ]
  },
  {
   "cell_type": "markdown",
   "metadata": {},
   "source": [
    "# Location wise Maximum problems"
   ]
  },
  {
   "cell_type": "code",
   "execution_count": 22,
   "metadata": {},
   "outputs": [
    {
     "data": {
      "text/plain": [
       "Neerukonda    24\n",
       "Thadepalli    18\n",
       "Kuragallu     17\n",
       "Mangalgiri    15\n",
       "Name: Location, dtype: int64"
      ]
     },
     "execution_count": 22,
     "metadata": {},
     "output_type": "execute_result"
    }
   ],
   "source": [
    "data['Location'].value_counts()"
   ]
  },
  {
   "cell_type": "code",
   "execution_count": 25,
   "metadata": {},
   "outputs": [
    {
     "data": {
      "text/plain": [
       "<matplotlib.axes._subplots.AxesSubplot at 0x1c212fa8438>"
      ]
     },
     "execution_count": 25,
     "metadata": {},
     "output_type": "execute_result"
    },
    {
     "data": {
      "image/png": "[encoded data removed]",
      "text/plain": [
       "<Figure size 432x288 with 1 Axes>"
      ]
     },
     "metadata": {},
     "output_type": "display_data"
    }
   ],
   "source": [
    "plt.xlabel('Location')\n",
    "plt.ylabel('No. of complaints')\n",
    "plt.title('Maximum Complaints in a Location')\n",
    "data['Location'].value_counts().plot.bar()"
   ]
  },
  {
   "cell_type": "code",
   "execution_count": 49,
   "metadata": {},
   "outputs": [
    {
     "data": {
      "image/png": "[encoded data removed]",
      "text/plain": [
       "<Figure size 432x288 with 1 Axes>"
      ]
     },
     "metadata": {},
     "output_type": "display_data"
    }
   ],
   "source": [
    "labels = data['Location'].astype('category').cat.categories.tolist()\n",
    "counts = data['Location'].value_counts()\n",
    "sizes = [counts[var_cat] for var_cat in labels]\n",
    "fig1, ax1 = plt.subplots()\n",
    "ax1.pie(sizes, labels=labels, autopct='%1.1f%%', shadow=True) #autopct is show the % on plot\n",
    "ax1.axis('equal')\n",
    "plt.show()"
   ]
  },
  {
   "cell_type": "markdown",
   "metadata": {},
   "source": [
    "# Going in depth finding out which zone major problems are happening"
   ]
  },
  {
   "cell_type": "code",
   "execution_count": 26,
   "metadata": {},
   "outputs": [
    {
     "data": {
      "text/plain": [
       "Zone 3    30\n",
       "Zone 2    28\n",
       "Zone 1    16\n",
       "Name: Zone, dtype: int64"
      ]
     },
     "execution_count": 26,
     "metadata": {},
     "output_type": "execute_result"
    }
   ],
   "source": [
    "data['Zone'].value_counts()"
   ]
  },
  {
   "cell_type": "code",
   "execution_count": 28,
   "metadata": {},
   "outputs": [
    {
     "data": {
      "text/plain": [
       "<matplotlib.axes._subplots.AxesSubplot at 0x1c2142842e8>"
      ]
     },
     "execution_count": 28,
     "metadata": {},
     "output_type": "execute_result"
    },
    {
     "data": {
      "image/png": "[encoded data removed]",
      "text/plain": [
       "<Figure size 432x288 with 1 Axes>"
      ]
     },
     "metadata": {},
     "output_type": "display_data"
    }
   ],
   "source": [
    "plt.xlabel('Zone')\n",
    "plt.ylabel('No. of complaints')\n",
    "data['Zone'].value_counts().plot.bar()"
   ]
  },
  {
   "cell_type": "code",
   "execution_count": 46,
   "metadata": {},
   "outputs": [
    {
     "data": {
      "image/png": "[encoded data removed]",
      "text/plain": [
       "<Figure size 432x288 with 1 Axes>"
      ]
     },
     "metadata": {},
     "output_type": "display_data"
    }
   ],
   "source": [
    "labels = data['Zone'].astype('category').cat.categories.tolist()\n",
    "counts = data['Zone'].value_counts()\n",
    "sizes = [counts[var_cat] for var_cat in labels]\n",
    "fig1, ax1 = plt.subplots()\n",
    "ax1.pie(sizes, labels=labels, autopct='%1.1f%%', shadow=True) #autopct is show the % on plot\n",
    "ax1.axis('equal')\n",
    "plt.show()"
   ]
  },
  {
   "cell_type": "markdown",
   "metadata": {},
   "source": [
    "# That comes to the end of the data analyzing part. We find out the major problems that are hampering the education, whether the problem is getting solved or not. This is a more constructive way to find out the problems, to provide a solution, finding out the location where education is not happening properly. Analytics does it in a better way which helps us work in a more efficient way, in a precise manner and helps in solving problems and keeping the flow steady"
   ]
  },
  {
   "cell_type": "markdown",
   "metadata": {},
   "source": [
    "# -------------------------------------------------------------------------------------------------------------"
   ]
  },
  {
   "cell_type": "markdown",
   "metadata": {},
   "source": [
    "# Analyzing Teachers data to find out the best suitable teachers"
   ]
  },
  {
   "cell_type": "markdown",
   "metadata": {},
   "source": [
    "# Importing dataset"
   ]
  },
  {
   "cell_type": "code",
   "execution_count": 2,
   "metadata": {},
   "outputs": [],
   "source": [
    "data2 = pd.read_csv('teachers.csv')"
   ]
  },
  {
   "cell_type": "code",
   "execution_count": 3,
   "metadata": {},
   "outputs": [
    {
     "data": {
      "text/html": [
       "<div>\n",
       "<style scoped>\n",
       "    .dataframe tbody tr th:only-of-type {\n",
       "        vertical-align: middle;\n",
       "    }\n",
       "\n",
       "    .dataframe tbody tr th {\n",
       "        vertical-align: top;\n",
       "    }\n",
       "\n",
       "    .dataframe thead th {\n",
       "        text-align: right;\n",
       "    }\n",
       "</style>\n",
       "<table border=\"1\" class=\"dataframe\">\n",
       "  <thead>\n",
       "    <tr style=\"text-align: right;\">\n",
       "      <th></th>\n",
       "      <th>Name</th>\n",
       "      <th>email</th>\n",
       "      <th>phone</th>\n",
       "      <th>subject</th>\n",
       "      <th>education</th>\n",
       "      <th>location</th>\n",
       "      <th>hours</th>\n",
       "    </tr>\n",
       "  </thead>\n",
       "  <tbody>\n",
       "    <tr>\n",
       "      <th>0</th>\n",
       "      <td>surya</td>\n",
       "      <td>surya@gmail.com</td>\n",
       "      <td>78678668.0</td>\n",
       "      <td>English</td>\n",
       "      <td>Bachelors</td>\n",
       "      <td>Mangalgiri</td>\n",
       "      <td>0</td>\n",
       "    </tr>\n",
       "    <tr>\n",
       "      <th>1</th>\n",
       "      <td>kjjk</td>\n",
       "      <td>kjkjkj@gmail.com</td>\n",
       "      <td>990000000.0</td>\n",
       "      <td>Maths &amp; Sciences</td>\n",
       "      <td>P.hD.</td>\n",
       "      <td>Mangalgiri</td>\n",
       "      <td>2</td>\n",
       "    </tr>\n",
       "    <tr>\n",
       "      <th>2</th>\n",
       "      <td>bijay</td>\n",
       "      <td>bijay@gmail.com</td>\n",
       "      <td>6787979.0</td>\n",
       "      <td>English</td>\n",
       "      <td>P.hD.</td>\n",
       "      <td>Mangalgiri</td>\n",
       "      <td>2</td>\n",
       "    </tr>\n",
       "    <tr>\n",
       "      <th>3</th>\n",
       "      <td>Arya</td>\n",
       "      <td>arya@gmail.com</td>\n",
       "      <td>988000000.0</td>\n",
       "      <td>Maths &amp; Sciences</td>\n",
       "      <td>Masters</td>\n",
       "      <td>Kuragallu</td>\n",
       "      <td>5</td>\n",
       "    </tr>\n",
       "    <tr>\n",
       "      <th>4</th>\n",
       "      <td>Ravi</td>\n",
       "      <td>ravi@gmail.com</td>\n",
       "      <td>790000000.0</td>\n",
       "      <td>English</td>\n",
       "      <td>Masters</td>\n",
       "      <td>Mangalgiri</td>\n",
       "      <td>5</td>\n",
       "    </tr>\n",
       "    <tr>\n",
       "      <th>5</th>\n",
       "      <td>Kamal</td>\n",
       "      <td>kamal@gmail.com</td>\n",
       "      <td>988000000.0</td>\n",
       "      <td>Arts</td>\n",
       "      <td>Masters</td>\n",
       "      <td>Kuragallu</td>\n",
       "      <td>5</td>\n",
       "    </tr>\n",
       "    <tr>\n",
       "      <th>6</th>\n",
       "      <td>Krishna</td>\n",
       "      <td>krishna@gmail.com</td>\n",
       "      <td>98789789.0</td>\n",
       "      <td>English</td>\n",
       "      <td>P.hD.</td>\n",
       "      <td>Neerukonda</td>\n",
       "      <td>5</td>\n",
       "    </tr>\n",
       "    <tr>\n",
       "      <th>7</th>\n",
       "      <td>Priya</td>\n",
       "      <td>priya@gmail.com</td>\n",
       "      <td>880000000.0</td>\n",
       "      <td>Social Science</td>\n",
       "      <td>P.hD.</td>\n",
       "      <td>Neerukonda</td>\n",
       "      <td>5</td>\n",
       "    </tr>\n",
       "    <tr>\n",
       "      <th>8</th>\n",
       "      <td>Hari</td>\n",
       "      <td>hari@gmail.com</td>\n",
       "      <td>98789786.0</td>\n",
       "      <td>English</td>\n",
       "      <td>Masters</td>\n",
       "      <td>Thadepalli</td>\n",
       "      <td>5</td>\n",
       "    </tr>\n",
       "    <tr>\n",
       "      <th>9</th>\n",
       "      <td>Lavan</td>\n",
       "      <td>lavan@gmail.com</td>\n",
       "      <td>789000000.0</td>\n",
       "      <td>Regional Language</td>\n",
       "      <td>Bachelors</td>\n",
       "      <td>Kuragallu</td>\n",
       "      <td>5</td>\n",
       "    </tr>\n",
       "    <tr>\n",
       "      <th>10</th>\n",
       "      <td>Pavan</td>\n",
       "      <td>pavan@gmail.com</td>\n",
       "      <td>988000000.0</td>\n",
       "      <td>Social Science</td>\n",
       "      <td>Bachelors</td>\n",
       "      <td>Kuragallu</td>\n",
       "      <td>5</td>\n",
       "    </tr>\n",
       "    <tr>\n",
       "      <th>11</th>\n",
       "      <td>Padma</td>\n",
       "      <td>padma@gmail.com</td>\n",
       "      <td>898000000.0</td>\n",
       "      <td>Regional Language</td>\n",
       "      <td>P.hD.</td>\n",
       "      <td>Mangalgiri</td>\n",
       "      <td>5</td>\n",
       "    </tr>\n",
       "    <tr>\n",
       "      <th>12</th>\n",
       "      <td>Bhanu</td>\n",
       "      <td>bhanu@gmail.com</td>\n",
       "      <td>790000000.0</td>\n",
       "      <td>English</td>\n",
       "      <td>Masters</td>\n",
       "      <td>Neerukonda</td>\n",
       "      <td>7</td>\n",
       "    </tr>\n",
       "    <tr>\n",
       "      <th>13</th>\n",
       "      <td>Kalki</td>\n",
       "      <td>kalki@gmail.com</td>\n",
       "      <td>790000000.0</td>\n",
       "      <td>Maths &amp; Sciences</td>\n",
       "      <td>Bachelors</td>\n",
       "      <td>Thadepalli</td>\n",
       "      <td>7</td>\n",
       "    </tr>\n",
       "    <tr>\n",
       "      <th>14</th>\n",
       "      <td>Raj</td>\n",
       "      <td>raj@gmail.com</td>\n",
       "      <td>790000000.0</td>\n",
       "      <td>Maths &amp; Sciences</td>\n",
       "      <td>Bachelors</td>\n",
       "      <td>Thadepalli</td>\n",
       "      <td>2</td>\n",
       "    </tr>\n",
       "    <tr>\n",
       "      <th>15</th>\n",
       "      <td>Sampath</td>\n",
       "      <td>sampath@gmail.com</td>\n",
       "      <td>987000000.0</td>\n",
       "      <td>Arts</td>\n",
       "      <td>Masters</td>\n",
       "      <td>Kuragallu</td>\n",
       "      <td>10</td>\n",
       "    </tr>\n",
       "    <tr>\n",
       "      <th>16</th>\n",
       "      <td>Jay</td>\n",
       "      <td>jay@gmail.com</td>\n",
       "      <td>786000000.0</td>\n",
       "      <td>English</td>\n",
       "      <td>Bachelors</td>\n",
       "      <td>Kuragallu</td>\n",
       "      <td>2</td>\n",
       "    </tr>\n",
       "    <tr>\n",
       "      <th>17</th>\n",
       "      <td>Riya</td>\n",
       "      <td>riya@gmail.com</td>\n",
       "      <td>987000000.0</td>\n",
       "      <td>Arts</td>\n",
       "      <td>P.hD.</td>\n",
       "      <td>Neerukonda</td>\n",
       "      <td>7</td>\n",
       "    </tr>\n",
       "    <tr>\n",
       "      <th>18</th>\n",
       "      <td>Madhu</td>\n",
       "      <td>madhu@gmail.com</td>\n",
       "      <td>898000000.0</td>\n",
       "      <td>Social Science</td>\n",
       "      <td>P.hD.</td>\n",
       "      <td>Mangalgiri</td>\n",
       "      <td>2</td>\n",
       "    </tr>\n",
       "    <tr>\n",
       "      <th>19</th>\n",
       "      <td>Ramya</td>\n",
       "      <td>ramya@gmail.com</td>\n",
       "      <td>897000000.0</td>\n",
       "      <td>Arts</td>\n",
       "      <td>Masters</td>\n",
       "      <td>Kuragallu</td>\n",
       "      <td>7</td>\n",
       "    </tr>\n",
       "  </tbody>\n",
       "</table>\n",
       "</div>"
      ],
      "text/plain": [
       "       Name              email        phone            subject  education  \\\n",
       "0     surya    surya@gmail.com   78678668.0            English  Bachelors   \n",
       "1      kjjk   kjkjkj@gmail.com  990000000.0   Maths & Sciences      P.hD.   \n",
       "2     bijay    bijay@gmail.com    6787979.0            English      P.hD.   \n",
       "3      Arya     arya@gmail.com  988000000.0   Maths & Sciences    Masters   \n",
       "4      Ravi     ravi@gmail.com  790000000.0            English    Masters   \n",
       "5     Kamal    kamal@gmail.com  988000000.0               Arts    Masters   \n",
       "6   Krishna  krishna@gmail.com   98789789.0            English      P.hD.   \n",
       "7     Priya    priya@gmail.com  880000000.0     Social Science      P.hD.   \n",
       "8      Hari     hari@gmail.com   98789786.0            English    Masters   \n",
       "9     Lavan    lavan@gmail.com  789000000.0  Regional Language  Bachelors   \n",
       "10    Pavan    pavan@gmail.com  988000000.0     Social Science  Bachelors   \n",
       "11    Padma    padma@gmail.com  898000000.0  Regional Language      P.hD.   \n",
       "12    Bhanu    bhanu@gmail.com  790000000.0            English    Masters   \n",
       "13    Kalki    kalki@gmail.com  790000000.0   Maths & Sciences  Bachelors   \n",
       "14      Raj      raj@gmail.com  790000000.0   Maths & Sciences  Bachelors   \n",
       "15  Sampath  sampath@gmail.com  987000000.0               Arts    Masters   \n",
       "16      Jay      jay@gmail.com  786000000.0            English  Bachelors   \n",
       "17     Riya     riya@gmail.com  987000000.0               Arts      P.hD.   \n",
       "18    Madhu    madhu@gmail.com  898000000.0     Social Science      P.hD.   \n",
       "19    Ramya    ramya@gmail.com  897000000.0               Arts    Masters   \n",
       "\n",
       "      location  hours  \n",
       "0   Mangalgiri      0  \n",
       "1   Mangalgiri      2  \n",
       "2   Mangalgiri      2  \n",
       "3    Kuragallu      5  \n",
       "4   Mangalgiri      5  \n",
       "5    Kuragallu      5  \n",
       "6   Neerukonda      5  \n",
       "7   Neerukonda      5  \n",
       "8   Thadepalli      5  \n",
       "9    Kuragallu      5  \n",
       "10   Kuragallu      5  \n",
       "11  Mangalgiri      5  \n",
       "12  Neerukonda      7  \n",
       "13  Thadepalli      7  \n",
       "14  Thadepalli      2  \n",
       "15   Kuragallu     10  \n",
       "16   Kuragallu      2  \n",
       "17  Neerukonda      7  \n",
       "18  Mangalgiri      2  \n",
       "19   Kuragallu      7  "
      ]
     },
     "execution_count": 3,
     "metadata": {},
     "output_type": "execute_result"
    }
   ],
   "source": [
    "data2.head(20)"
   ]
  },
  {
   "cell_type": "markdown",
   "metadata": {},
   "source": [
    "# Most demanding subject, teachers are looking forward to teach"
   ]
  },
  {
   "cell_type": "code",
   "execution_count": 29,
   "metadata": {},
   "outputs": [
    {
     "data": {
      "text/plain": [
       "English              8\n",
       "Arts                 6\n",
       "Maths & Sciences     6\n",
       "Social Science       5\n",
       "Regional Language    4\n",
       "Name: subject, dtype: int64"
      ]
     },
     "execution_count": 29,
     "metadata": {},
     "output_type": "execute_result"
    }
   ],
   "source": [
    "data2['subject'].value_counts()"
   ]
  },
  {
   "cell_type": "code",
   "execution_count": 30,
   "metadata": {},
   "outputs": [
    {
     "data": {
      "text/plain": [
       "<matplotlib.axes._subplots.AxesSubplot at 0x1c2142ddc88>"
      ]
     },
     "execution_count": 30,
     "metadata": {},
     "output_type": "execute_result"
    },
    {
     "data": {
      "image/png": "[encoded data removed]",
      "text/plain": [
       "<Figure size 432x288 with 1 Axes>"
      ]
     },
     "metadata": {},
     "output_type": "display_data"
    }
   ],
   "source": [
    "plt.xlabel('Preferable Subjects')\n",
    "plt.ylabel('No. of People interested to teach')\n",
    "plt.title('Teachers available in each subject')\n",
    "data2['subject'].value_counts().plot.bar()"
   ]
  },
  {
   "cell_type": "code",
   "execution_count": 48,
   "metadata": {},
   "outputs": [
    {
     "data": {
      "image/png": "[encoded data removed]",
      "text/plain": [
       "<Figure size 432x288 with 1 Axes>"
      ]
     },
     "metadata": {},
     "output_type": "display_data"
    }
   ],
   "source": [
    "labels = data2['subject'].astype('category').cat.categories.tolist()\n",
    "counts = data2['subject'].value_counts()\n",
    "sizes = [counts[var_cat] for var_cat in labels]\n",
    "fig1, ax1 = plt.subplots()\n",
    "ax1.pie(sizes, labels=labels, autopct='%1.1f%%', shadow=True) #autopct is show the % on plot\n",
    "ax1.axis('equal')\n",
    "plt.show()"
   ]
  },
  {
   "cell_type": "markdown",
   "metadata": {},
   "source": [
    "# Most preferred location by teachers"
   ]
  },
  {
   "cell_type": "code",
   "execution_count": 32,
   "metadata": {},
   "outputs": [
    {
     "data": {
      "text/plain": [
       "<matplotlib.axes._subplots.AxesSubplot at 0x1c2142f9c18>"
      ]
     },
     "execution_count": 32,
     "metadata": {},
     "output_type": "execute_result"
    },
    {
     "data": {
      "image/png": "[encoded data removed]",
      "text/plain": [
       "<Figure size 432x288 with 1 Axes>"
      ]
     },
     "metadata": {},
     "output_type": "display_data"
    }
   ],
   "source": [
    "plt.xlabel('Preferable Location')\n",
    "plt.ylabel('No. of People interested for that Location')\n",
    "plt.title('Teachers available in each location')\n",
    "data2['location'].value_counts().plot.bar()"
   ]
  },
  {
   "cell_type": "markdown",
   "metadata": {},
   "source": [
    "# Choosing best teachers based on their educational qualification"
   ]
  },
  {
   "cell_type": "markdown",
   "metadata": {},
   "source": [
    "We analyse teachers education details in order to classify the quality of teacher on the basis of their education background."
   ]
  },
  {
   "cell_type": "code",
   "execution_count": 33,
   "metadata": {},
   "outputs": [
    {
     "data": {
      "text/plain": [
       "29"
      ]
     },
     "execution_count": 33,
     "metadata": {},
     "output_type": "execute_result"
    }
   ],
   "source": [
    "len(data2['education'])"
   ]
  },
  {
   "cell_type": "code",
   "execution_count": 36,
   "metadata": {},
   "outputs": [
    {
     "data": {
      "text/plain": [
       "Bachelors    12\n",
       "Masters       9\n",
       "P.hD.         8\n",
       "Name: education, dtype: int64"
      ]
     },
     "execution_count": 36,
     "metadata": {},
     "output_type": "execute_result"
    }
   ],
   "source": [
    "data2['education'].value_counts()"
   ]
  },
  {
   "cell_type": "code",
   "execution_count": 35,
   "metadata": {},
   "outputs": [
    {
     "data": {
      "text/plain": [
       "<matplotlib.axes._subplots.AxesSubplot at 0x1c214456160>"
      ]
     },
     "execution_count": 35,
     "metadata": {},
     "output_type": "execute_result"
    },
    {
     "data": {
      "image/png": "[encoded data removed]",
      "text/plain": [
       "<Figure size 432x288 with 1 Axes>"
      ]
     },
     "metadata": {},
     "output_type": "display_data"
    }
   ],
   "source": [
    "plt.xlabel('Educational Degree')\n",
    "plt.ylabel('No. of People with degree')\n",
    "plt.title('Educational Qualification of Teachers')\n",
    "data2['education'].value_counts().plot.bar()"
   ]
  },
  {
   "cell_type": "code",
   "execution_count": 47,
   "metadata": {},
   "outputs": [
    {
     "data": {
      "image/png": "[encoded data removed]",
      "text/plain": [
       "<Figure size 432x288 with 1 Axes>"
      ]
     },
     "metadata": {},
     "output_type": "display_data"
    }
   ],
   "source": [
    "labels = data2['education'].astype('category').cat.categories.tolist()\n",
    "counts = data2['education'].value_counts()\n",
    "sizes = [counts[var_cat] for var_cat in labels]\n",
    "fig1, ax1 = plt.subplots()\n",
    "ax1.pie(sizes, labels=labels, autopct='%1.1f%%', shadow=True) #autopct is show the % on plot\n",
    "ax1.axis('equal')\n",
    "plt.show()"
   ]
  },
  {
   "cell_type": "markdown",
   "metadata": {},
   "source": [
    "# Time each teacher can devote so that routine can be set accordingly"
   ]
  },
  {
   "cell_type": "code",
   "execution_count": 37,
   "metadata": {},
   "outputs": [
    {
     "data": {
      "text/plain": [
       "2     12\n",
       "5     11\n",
       "7      4\n",
       "10     1\n",
       "0      1\n",
       "Name: hours, dtype: int64"
      ]
     },
     "execution_count": 37,
     "metadata": {},
     "output_type": "execute_result"
    }
   ],
   "source": [
    "data2['hours'].value_counts()"
   ]
  },
  {
   "cell_type": "code",
   "execution_count": 43,
   "metadata": {},
   "outputs": [
    {
     "data": {
      "text/plain": [
       "<matplotlib.axes._subplots.AxesSubplot at 0x1c2144ec5f8>"
      ]
     },
     "execution_count": 43,
     "metadata": {},
     "output_type": "execute_result"
    },
    {
     "data": {
      "image/png": "[encoded data removed]",
      "text/plain": [
       "<Figure size 432x288 with 1 Axes>"
      ]
     },
     "metadata": {},
     "output_type": "display_data"
    }
   ],
   "source": [
    "\n",
    "plt.xlabel('No. of hours')\n",
    "plt.ylabel('No. of teachers')\n",
    "plt.title('Time Teachers can devote per week')\n",
    "\n",
    "data2['hours'].value_counts().plot.bar()"
   ]
  },
  {
   "cell_type": "code",
   "execution_count": 44,
   "metadata": {},
   "outputs": [
    {
     "name": "stdout",
     "output_type": "stream",
     "text": [
      "Hours each teacher can devote per week on an avg.: 4.0344827586206895\n"
     ]
    }
   ],
   "source": [
    "print(\"Hours each teacher can devote per week on an avg.:\",data2['hours'].mean())"
   ]
  },
  {
   "cell_type": "markdown",
   "metadata": {},
   "source": [
    "# So by analyzing the data we find out the best and the most suitable teachers, we can make the study routine accordingly so that the studyflow is spontaneous and flawless, and since problems related to teachers are maximum, this is a good way to solve the problem"
   ]
  },
  {
   "cell_type": "code",
   "execution_count": null,
   "metadata": {},
   "outputs": [],
   "source": []
  },
  {
   "cell_type": "code",
   "execution_count": null,
   "metadata": {},
   "outputs": [],
   "source": []
  },
  {
   "cell_type": "code",
   "execution_count": null,
   "metadata": {},
   "outputs": [],
   "source": []
  }
 ],
 "metadata": {
  "kernelspec": {
   "display_name": "Python 3",
   "language": "python",
   "name": "python3"
  },
  "language_info": {
   "codemirror_mode": {
    "name": "ipython",
    "version": 3
   },
   "file_extension": ".py",
   "mimetype": "text/x-python",
   "name": "python",
   "nbconvert_exporter": "python",
   "pygments_lexer": "ipython3",
   "version": "3.7.3"
  }
 },
 "nbformat": 4,
 "nbformat_minor": 2
}
